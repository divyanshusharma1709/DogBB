{
 "cells": [
  {
   "cell_type": "code",
   "execution_count": 1,
   "metadata": {
    "scrolled": true
   },
   "outputs": [
    {
     "name": "stderr",
     "output_type": "stream",
     "text": [
      "Using TensorFlow backend.\n"
     ]
    }
   ],
   "source": [
    "from keras.preprocessing.image import load_img\n",
    "from matplotlib import pyplot as plt\n",
    "import numpy as np\n",
    "import cv2\n",
    "from bs4 import BeautifulSoup as Soup"
   ]
  },
  {
   "cell_type": "code",
   "execution_count": 74,
   "metadata": {},
   "outputs": [],
   "source": [
    "def generateLabel(img_path, img_dim, N, ann_path, i, j):\n",
    "    soup = Soup(open(ann_path),'xml')\n",
    "    labels_old = []\n",
    "    labels_old.append(int(soup.find('bndbox').find(\"xmin\").text))\n",
    "    labels_old.append(int(soup.find('bndbox').find(\"ymin\").text))\n",
    "    labels_old.append(int(soup.find('bndbox').find(\"xmax\").text))\n",
    "    labels_old.append(int(soup.find('bndbox').find(\"ymax\").text))\n",
    "    #Normalizing this (w.r.t image dim will get rid of dim_dependence!\n",
    "    image = np.array(load_img(img_path))\n",
    "    labels_norm = [labels[0]/image.shape[1], labels[1]/image.shape[0], labels[2]/image.shape[1], labels[3]/image.shape[0]]\n",
    "    labels = [labels_norm[i] * img_dim for i in range(len(l1))]\n",
    "    labels = list(map(int, labels))\n",
    "    xmp = (labels[2] + labels[0])/2\n",
    "    ymp = (labels[3] + labels[1])/2\n",
    "    mbx = int(xmp/N)\n",
    "    mby = int(ymp/N)\n",
    "    if (i == mbx and j == mby):\n",
    "        prob = 1\n",
    "    else:\n",
    "        prob = 0\n",
    "    bx = ((xmp%N)*N)/img_dim\n",
    "    by = ((ymp%N)*N)/img_dim\n",
    "    bh = (labels[3] - labels[1])\n",
    "    bw = (labels[2] - labels[0])\n",
    "    label = [prob, bx, by, bh, bw]\n",
    "    return label"
   ]
  },
  {
   "cell_type": "code",
   "execution_count": 65,
   "metadata": {},
   "outputs": [],
   "source": [
    "def plot(image, xmp, ymp, bw, bh):\n",
    "    cv2.rectangle(image, (int(xmp - bw/2), int(ymp - bh/2)), (int(bw/2 + xmp), int(bh/2 + ymp)), (255, 0, 0), 2)"
   ]
  }
 ],
 "metadata": {
  "kernelspec": {
   "display_name": "Python 3",
   "language": "python",
   "name": "python3"
  },
  "language_info": {
   "codemirror_mode": {
    "name": "ipython",
    "version": 3
   },
   "file_extension": ".py",
   "mimetype": "text/x-python",
   "name": "python",
   "nbconvert_exporter": "python",
   "pygments_lexer": "ipython3",
   "version": "3.6.5"
  }
 },
 "nbformat": 4,
 "nbformat_minor": 2
}
